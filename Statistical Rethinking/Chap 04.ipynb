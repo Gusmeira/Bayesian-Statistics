{
 "cells": [
  {
   "cell_type": "markdown",
   "metadata": {},
   "source": [
    "# **Chapter 4**"
   ]
  },
  {
   "cell_type": "code",
   "execution_count": 1,
   "metadata": {},
   "outputs": [
    {
     "name": "stderr",
     "output_type": "stream",
     "text": [
      "WARNING (pytensor.configdefaults): g++ not available, if using conda: `conda install m2w64-toolchain`\n",
      "WARNING (pytensor.configdefaults): g++ not detected!  PyTensor will be unable to compile C-implementations and will default to Python. Performance may be severely degraded. To remove this warning, set PyTensor flags cxx to an empty string.\n",
      "WARNING (pytensor.tensor.blas): Using NumPy C-API based implementation for BLAS functions.\n"
     ]
    }
   ],
   "source": [
    "import numpy as np\n",
    "import pandas as pd\n",
    "import General\n",
    "\n",
    "import plotly\n",
    "import plotly.graph_objects as go\n",
    "import plotly.figure_factory as ff\n",
    "import plotly.io as pio\n",
    "pio.renderers.default = 'png'\n",
    "\n",
    "import arviz as az\n",
    "import pymc as pm\n",
    "import scipy.stats as stats\n",
    "\n",
    "az.style.use(\"arviz-darkgrid\")\n",
    "rng = np.random.default_rng(1)\n",
    "\n",
    "import warnings\n",
    "warnings.filterwarnings(\"ignore\", category=FutureWarning)"
   ]
  },
  {
   "cell_type": "markdown",
   "metadata": {},
   "source": [
    "### **4M1**\n",
    "\n",
    "For the model definition below, simulate observed $y$ values from the prior (not the posterior).<br>\n",
    "$y_i ∼ \\text{Normal}(\\mu, \\sigma)$<br>\n",
    "$\\mu ∼ \\text{Normal}(0, 10)$<br>\n",
    "$\\sigma ∼ \\text{Uniform}(1)$"
   ]
  },
  {
   "cell_type": "code",
   "execution_count": 2,
   "metadata": {},
   "outputs": [],
   "source": [
    "mu = stats.norm.rvs(loc=0, scale=10, size=10000)\n",
    "sigma = stats.uniform.rvs(loc=1, scale=10, size=10000)\n",
    "y = [np.random.normal(mu, sigma, 1) for mu, sigma in zip(mu, sigma)]"
   ]
  },
  {
   "cell_type": "markdown",
   "metadata": {},
   "source": [
    "### **4M2**\n",
    "\n",
    " Translate the model just above into a quap formula."
   ]
  },
  {
   "cell_type": "code",
   "execution_count": 3,
   "metadata": {},
   "outputs": [
    {
     "data": {
      "application/vnd.jupyter.widget-view+json": {
       "model_id": "f9e2a05b956645a2aed76d782573cefb",
       "version_major": 2,
       "version_minor": 0
      },
      "text/plain": [
       "Output()"
      ]
     },
     "metadata": {},
     "output_type": "display_data"
    },
    {
     "data": {
      "text/html": [
       "<pre style=\"white-space:pre;overflow-x:auto;line-height:normal;font-family:Menlo,'DejaVu Sans Mono',consolas,'Courier New',monospace\"></pre>\n"
      ],
      "text/plain": []
     },
     "metadata": {},
     "output_type": "display_data"
    },
    {
     "name": "stdout",
     "output_type": "stream",
     "text": [
      "Posterior estimates:\n",
      "mu: 0.15\n",
      "sigma: 1.00\n"
     ]
    }
   ],
   "source": [
    "with pm.Model() as model:\n",
    "    mu = pm.Normal(\"mu\", mu=0, sigma=10)  # Prior for mu\n",
    "    sigma = pm.Uniform(\"sigma\", lower=0, upper=1)  # Prior for sigma\n",
    "    y_obs = pm.Normal(\"y_obs\", mu=mu, sigma=sigma, observed=np.concatenate(y))  # Observed y values\n",
    "\n",
    "    # Fit the model using MAP (similar to quap)\n",
    "    posterior = pm.find_MAP()\n",
    "\n",
    "print(\"Posterior estimates:\")\n",
    "print(f'mu: {posterior['mu']:.2f}')\n",
    "print(f'sigma: {posterior['sigma']:.2f}')"
   ]
  },
  {
   "cell_type": "markdown",
   "metadata": {},
   "source": [
    "### **4M4**\n",
    "\n",
    "A sample of students is measured for height each year for 3 years. After the third year, you want to fit a linear regression predicting height using year as a predictor. Write down the mathematical model definition for this regression, using any variable names and priors you choose."
   ]
  },
  {
   "cell_type": "markdown",
   "metadata": {},
   "source": [
    "$h_i ∼ \\text{Normal}(\\mu, \\sigma)$<br>\n",
    "$\\mu ∼ \\alpha + \\beta (y_i)$<br>\n",
    "$\\alpha ∼ \\text{Normal}(0, 100)$<br>\n",
    "$\\beta ∼ \\text{Normal}(0, 10)$<br>\n",
    "$\\sigma ∼ \\text{Uniform}(50)$"
   ]
  },
  {
   "cell_type": "markdown",
   "metadata": {},
   "source": [
    "### **4H1**\n",
    "\n",
    "The weights listed below were recorded in the !Kung census, but heights were not recorded for these individuals. Provide predicted heights and 89% intervals for each of these individuals. That is, fill in the table below, using model-based predictions.\n",
    "\n",
    "| **Individual**  | **Weight** | **Expected Height** | **89% Interval**  |\n",
    "|-----------------|------------|---------------------|-------------------|\n",
    "| 1               | 46.95      | ?                   | ?                 |\n",
    "| 2               | 43.72      | ?                   | ?                 |\n",
    "| 3               | 64.78      | ?                   | ?                 |\n",
    "| 4               | 32.59      | ?                   | ?                 |\n",
    "| 5               | 54.63      | ?                   | ?                 |"
   ]
  },
  {
   "cell_type": "code",
   "execution_count": 4,
   "metadata": {},
   "outputs": [],
   "source": [
    "howell1 = pd.read_csv(r'.\\..\\Data\\Howell1.csv', delimiter=';')\n",
    "data = howell1[howell1['age'] >= 18]"
   ]
  },
  {
   "cell_type": "code",
   "execution_count": 6,
   "metadata": {},
   "outputs": [
    {
     "data": {
      "application/vnd.jupyter.widget-view+json": {
       "model_id": "5b32c13900414a83932e46679cfe62ea",
       "version_major": 2,
       "version_minor": 0
      },
      "text/plain": [
       "Output()"
      ]
     },
     "metadata": {},
     "output_type": "display_data"
    },
    {
     "data": {
      "text/html": [
       "<pre style=\"white-space:pre;overflow-x:auto;line-height:normal;font-family:Menlo,'DejaVu Sans Mono',consolas,'Courier New',monospace\"></pre>\n"
      ],
      "text/plain": []
     },
     "metadata": {},
     "output_type": "display_data"
    },
    {
     "name": "stderr",
     "output_type": "stream",
     "text": [
      "Multiprocess sampling (4 chains in 4 jobs)\n",
      "CompoundStep\n",
      ">Metropolis: [sigma]\n",
      ">Metropolis: [alpha]\n",
      ">Metropolis: [beta]\n",
      "Sampling 4 chains for 500 tune and 1_000 draw iterations (2_000 + 4_000 draws total) took 121 seconds.\n",
      "The rhat statistic is larger than 1.01 for some parameters. This indicates problems during sampling. See https://arxiv.org/abs/1903.08008 for details\n",
      "The effective sample size per chain is smaller than 100 for some parameters.  A higher number is needed for reliable rhat and ess computation. See https://arxiv.org/abs/1903.08008 for details\n"
     ]
    },
    {
     "name": "stdout",
     "output_type": "stream",
     "text": [
      "\n",
      "Posterior estimates:\n",
      "alpha: 114.53\n",
      "beta: 0.89\n",
      "sigma: 5.07\n"
     ]
    }
   ],
   "source": [
    "with pm.Model() as model:\n",
    "    sigma = pm.Uniform('sigma', 0, 50)\n",
    "    alpha = pm.Normal('alpha', mu=178, sigma=20)\n",
    "    beta = pm.Lognormal('beta', mu=0, tau=1)\n",
    "    mu = alpha + beta*data['weight'].values\n",
    "    height = pm.Normal('height', mu=mu, sigma=sigma, observed=data['height'].values)\n",
    "\n",
    "    # Posterior Distribution\n",
    "    posterior = pm.find_MAP()\n",
    "    # Hessian Matrix\n",
    "    Hess = pm.find_hessian(posterior, vars=[alpha, beta, sigma])\n",
    "    # Extract Samples\n",
    "    trace = pm.sample(draws=1000, step=pm.Metropolis(), tune=500, progressbar=False)\n",
    "    \n",
    "print(\"\\nPosterior estimates:\")\n",
    "print(f'sigma: {posterior['sigma']:.2f}')\n",
    "print(f'alpha: {posterior['alpha']:.2f}')\n",
    "print(f'beta: {posterior['beta']:.2f}')"
   ]
  },
  {
   "cell_type": "code",
   "execution_count": 90,
   "metadata": {},
   "outputs": [],
   "source": [
    "# The inverse of the Hessian matrix is often used to estimate the covariance matrix of the parameters.\n",
    "# The diagonal elements of the covariance matrix correspond to the variances of the parameters, and the off-diagonal elements correspond to the covariances.\n",
    "var_cov = np.linalg.inv(Hess)\n",
    "means = np.fromiter([posterior['alpha'], posterior['beta'], posterior['sigma']], dtype=float)\n",
    "post_samples = np.random.multivariate_normal(means, var_cov, size=10000)\n",
    "\n",
    "# Credibility Interval\n",
    "cred_intervals = np.array(\n",
    "    [az.hdi(post_samples[:, 0] + post_samples[:, 1] * (x)) for x in np.linspace(20, 70, 100)]\n",
    ")\n",
    "\n",
    "# Interval for Real Data\n",
    "def compute_mu(x):\n",
    "    return post_samples[:, 0] + post_samples[:, 1] * (x)\n",
    "pred_intervals = np.array(\n",
    "    [az.hdi(np.random.normal(loc=compute_mu(x), scale=post_samples[:, 2])) for x in np.linspace(20, 70, 100)]\n",
    ")"
   ]
  },
  {
   "cell_type": "code",
   "execution_count": 103,
   "metadata": {},
   "outputs": [
    {
     "data": {
      "image/png": "[encoded data removed]"
     },
     "metadata": {},
     "output_type": "display_data"
    }
   ],
   "source": [
    "x = np.linspace(20, 70, 100)\n",
    "\n",
    "fig = go.Figure()\n",
    "\n",
    "fig.add_trace(trace=go.Scatter(\n",
    "    x=data['weight'].values, y=data['height'].values,\n",
    "    mode='markers', marker=dict(color='grey'), opacity=0.6,\n",
    "    name='data'\n",
    "))\n",
    "\n",
    "mu = posterior[\"alpha\"] + posterior[\"beta\"] * (x)\n",
    "fig.add_trace(trace=go.Scatter(\n",
    "    x=x, y=mu,\n",
    "    mode='lines', line=dict(color='#0064b2'),\n",
    "    name='posterior'\n",
    "))\n",
    "\n",
    "fig.add_trace(trace=go.Scatter(\n",
    "    x=x, y=pred_intervals[:, 0],\n",
    "    fill=None,\n",
    "    line=dict(color='rgba(255, 255, 255, 0)'),\n",
    "    showlegend=False\n",
    "))\n",
    "fig.add_trace(trace=go.Scatter(\n",
    "    x=x, y=pred_intervals[:, 1],\n",
    "    fill='tonexty', fillcolor='rgba(100, 100, 100, 0.1)',\n",
    "    line=dict(color='rgba(255, 255, 255, 0)'),\n",
    "    name='Prediction Interval'\n",
    "))\n",
    "\n",
    "fig.add_trace(trace=go.Scatter(\n",
    "    x=x, y=cred_intervals[:, 0],\n",
    "    fill=None,\n",
    "    line=dict(color='rgba(255, 255, 255, 0)'),\n",
    "    showlegend=False\n",
    "))\n",
    "fig.add_trace(trace=go.Scatter(\n",
    "    x=x, y=cred_intervals[:, 1],\n",
    "    fill='tonexty', fillcolor='rgba(0, 100, 200, 0.2)',\n",
    "    line=dict(color='rgba(255, 255, 255, 0)'),\n",
    "    name='Credible Interval'\n",
    "))\n",
    "\n",
    "General.main_layout(fig, title='4H1', x='Weight', y='Height')\n",
    "fig.show()"
   ]
  },
  {
   "cell_type": "code",
   "execution_count": 111,
   "metadata": {},
   "outputs": [
    {
     "data": {
      "text/html": [
       "<div>\n",
       "<style scoped>\n",
       "    .dataframe tbody tr th:only-of-type {\n",
       "        vertical-align: middle;\n",
       "    }\n",
       "\n",
       "    .dataframe tbody tr th {\n",
       "        vertical-align: top;\n",
       "    }\n",
       "\n",
       "    .dataframe thead th {\n",
       "        text-align: right;\n",
       "    }\n",
       "</style>\n",
       "<table border=\"1\" class=\"dataframe\">\n",
       "  <thead>\n",
       "    <tr style=\"text-align: right;\">\n",
       "      <th></th>\n",
       "      <th>Individual</th>\n",
       "      <th>Weight</th>\n",
       "      <th>Expected height</th>\n",
       "      <th>Lower 89% interval</th>\n",
       "      <th>Upper 89% interval</th>\n",
       "    </tr>\n",
       "  </thead>\n",
       "  <tbody>\n",
       "    <tr>\n",
       "      <th>0</th>\n",
       "      <td>1.0</td>\n",
       "      <td>46.95</td>\n",
       "      <td>156.354090</td>\n",
       "      <td>147.034336</td>\n",
       "      <td>166.118587</td>\n",
       "    </tr>\n",
       "    <tr>\n",
       "      <th>1</th>\n",
       "      <td>2.0</td>\n",
       "      <td>43.72</td>\n",
       "      <td>153.477031</td>\n",
       "      <td>143.931858</td>\n",
       "      <td>163.076003</td>\n",
       "    </tr>\n",
       "    <tr>\n",
       "      <th>2</th>\n",
       "      <td>3.0</td>\n",
       "      <td>64.78</td>\n",
       "      <td>172.235811</td>\n",
       "      <td>162.521293</td>\n",
       "      <td>181.773359</td>\n",
       "    </tr>\n",
       "    <tr>\n",
       "      <th>3</th>\n",
       "      <td>4.0</td>\n",
       "      <td>32.59</td>\n",
       "      <td>143.563203</td>\n",
       "      <td>134.463332</td>\n",
       "      <td>153.364641</td>\n",
       "    </tr>\n",
       "    <tr>\n",
       "      <th>4</th>\n",
       "      <td>5.0</td>\n",
       "      <td>54.63</td>\n",
       "      <td>163.194898</td>\n",
       "      <td>153.636032</td>\n",
       "      <td>172.602710</td>\n",
       "    </tr>\n",
       "  </tbody>\n",
       "</table>\n",
       "</div>"
      ],
      "text/plain": [
       "   Individual  Weight  Expected height  Lower 89% interval  Upper 89% interval\n",
       "0         1.0   46.95       156.354090          147.034336          166.118587\n",
       "1         2.0   43.72       153.477031          143.931858          163.076003\n",
       "2         3.0   64.78       172.235811          162.521293          181.773359\n",
       "3         4.0   32.59       143.563203          134.463332          153.364641\n",
       "4         5.0   54.63       163.194898          153.636032          172.602710"
      ]
     },
     "metadata": {},
     "output_type": "display_data"
    }
   ],
   "source": [
    "# define the data\n",
    "individuals = np.linspace(1, 5, 5)\n",
    "weight = np.array([46.95, 43.72, 64.78, 32.59, 54.63])\n",
    "# compute the mean predictions\n",
    "means = posterior[\"alpha\"] + posterior[\"beta\"] * weight\n",
    "# compute the prediction intervals\n",
    "pred_intervals = np.array(\n",
    "    [az.hdi(np.random.normal(loc=compute_mu(x), scale=post_samples[:, 2])) for x in weight]\n",
    ")\n",
    "data_dict = {\n",
    "    \"Individual\": individuals,\n",
    "    \"Weight\": weight,\n",
    "    \"Expected height\": means,\n",
    "    \"Lower 89% interval\": pred_intervals[:, 0],\n",
    "    \"Upper 89% interval\": pred_intervals[:, 1],\n",
    "}\n",
    "display(pd.DataFrame(data=data_dict))"
   ]
  }
 ],
 "metadata": {
  "kernelspec": {
   "display_name": "Python 3",
   "language": "python",
   "name": "python3"
  },
  "language_info": {
   "codemirror_mode": {
    "name": "ipython",
    "version": 3
   },
   "file_extension": ".py",
   "mimetype": "text/x-python",
   "name": "python",
   "nbconvert_exporter": "python",
   "pygments_lexer": "ipython3",
   "version": "3.12.6"
  }
 },
 "nbformat": 4,
 "nbformat_minor": 2
}
